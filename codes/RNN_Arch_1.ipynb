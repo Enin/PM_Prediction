{
 "cells": [
  {
   "cell_type": "code",
   "execution_count": 1,
   "metadata": {},
   "outputs": [
    {
     "name": "stderr",
     "output_type": "stream",
     "text": [
      "Using TensorFlow backend.\n"
     ]
    }
   ],
   "source": [
    "import pandas as pd\n",
    "import numpy as np\n",
    "import matplotlib.pyplot as plt\n",
    "from keras.models import Sequential\n",
    "from keras.layers import LSTM, Dropout, Dense, Activation\n",
    "from keras.callbacks import TensorBoard, ModelCheckpoint, ReduceLROnPlateau\n",
    "from keras.models import load_model\n",
    "\n",
    "import datetime\n",
    "import os"
   ]
  },
  {
   "cell_type": "code",
   "execution_count": 2,
   "metadata": {},
   "outputs": [
    {
     "data": {
      "text/html": [
       "<div>\n",
       "<style scoped>\n",
       "    .dataframe tbody tr th:only-of-type {\n",
       "        vertical-align: middle;\n",
       "    }\n",
       "\n",
       "    .dataframe tbody tr th {\n",
       "        vertical-align: top;\n",
       "    }\n",
       "\n",
       "    .dataframe thead th {\n",
       "        text-align: right;\n",
       "    }\n",
       "</style>\n",
       "<table border=\"1\" class=\"dataframe\">\n",
       "  <thead>\n",
       "    <tr style=\"text-align: right;\">\n",
       "      <th></th>\n",
       "      <th>Open*</th>\n",
       "      <th>High</th>\n",
       "      <th>Low</th>\n",
       "      <th>Close**</th>\n",
       "      <th>Volume</th>\n",
       "      <th>Market Cap</th>\n",
       "    </tr>\n",
       "    <tr>\n",
       "      <th>Date</th>\n",
       "      <th></th>\n",
       "      <th></th>\n",
       "      <th></th>\n",
       "      <th></th>\n",
       "      <th></th>\n",
       "      <th></th>\n",
       "    </tr>\n",
       "  </thead>\n",
       "  <tbody>\n",
       "    <tr>\n",
       "      <th>2019-08-13</th>\n",
       "      <td>211.34</td>\n",
       "      <td>211.38</td>\n",
       "      <td>205.42</td>\n",
       "      <td>208.71</td>\n",
       "      <td>5946313205</td>\n",
       "      <td>2.239653e+10</td>\n",
       "    </tr>\n",
       "    <tr>\n",
       "      <th>2019-08-12</th>\n",
       "      <td>216.06</td>\n",
       "      <td>216.14</td>\n",
       "      <td>210.95</td>\n",
       "      <td>211.29</td>\n",
       "      <td>5674315559</td>\n",
       "      <td>2.267042e+10</td>\n",
       "    </tr>\n",
       "    <tr>\n",
       "      <th>2019-08-11</th>\n",
       "      <td>206.73</td>\n",
       "      <td>216.60</td>\n",
       "      <td>206.51</td>\n",
       "      <td>216.09</td>\n",
       "      <td>6440605605</td>\n",
       "      <td>2.318300e+10</td>\n",
       "    </tr>\n",
       "    <tr>\n",
       "      <th>2019-08-10</th>\n",
       "      <td>210.53</td>\n",
       "      <td>213.73</td>\n",
       "      <td>203.79</td>\n",
       "      <td>206.73</td>\n",
       "      <td>6584748527</td>\n",
       "      <td>2.217611e+10</td>\n",
       "    </tr>\n",
       "    <tr>\n",
       "      <th>2019-08-09</th>\n",
       "      <td>220.91</td>\n",
       "      <td>221.36</td>\n",
       "      <td>208.25</td>\n",
       "      <td>210.49</td>\n",
       "      <td>6964818795</td>\n",
       "      <td>2.257606e+10</td>\n",
       "    </tr>\n",
       "  </tbody>\n",
       "</table>\n",
       "</div>"
      ],
      "text/plain": [
       "             Open*    High     Low  Close**      Volume    Market Cap\n",
       "Date                                                                 \n",
       "2019-08-13  211.34  211.38  205.42   208.71  5946313205  2.239653e+10\n",
       "2019-08-12  216.06  216.14  210.95   211.29  5674315559  2.267042e+10\n",
       "2019-08-11  206.73  216.60  206.51   216.09  6440605605  2.318300e+10\n",
       "2019-08-10  210.53  213.73  203.79   206.73  6584748527  2.217611e+10\n",
       "2019-08-09  220.91  221.36  208.25   210.49  6964818795  2.257606e+10"
      ]
     },
     "execution_count": 2,
     "metadata": {},
     "output_type": "execute_result"
    }
   ],
   "source": [
    "### 데이터 로드\n",
    "data = pd.read_csv('dataset/ethereum_dataset.csv', index_col=0)\n",
    "data.head()"
   ]
  },
  {
   "cell_type": "code",
   "execution_count": 3,
   "metadata": {},
   "outputs": [],
   "source": [
    "### 데이터 전처리\n",
    "high_prices = data['High'].values\n",
    "low_prices = data['Low'].values\n",
    "\n",
    "mid_prices = (high_prices + low_prices) / 2\n",
    "\n",
    "seq_len = 30\n",
    "sequence_length = seq_len + 1\n",
    "\n",
    "price = []\n",
    "for index in range(len(mid_prices) - sequence_length):\n",
    "    price.append(mid_prices[index: index + sequence_length])"
   ]
  },
  {
   "cell_type": "code",
   "execution_count": 4,
   "metadata": {},
   "outputs": [],
   "source": [
    "### 데이터 정규화 - price\n",
    "def price_normalize_windows(data):\n",
    "    normalized_data = []\n",
    "\n",
    "    for window in data:\n",
    "        normalized_window = [((float(p) / float(window[0])) - 1) for p in window]\n",
    "        normalized_data.append(normalized_window)\n",
    "        \n",
    "    return np.array(normalized_data)\n",
    "\n",
    "norm_price = price_normalize_windows(price)"
   ]
  },
  {
   "cell_type": "code",
   "execution_count": 5,
   "metadata": {},
   "outputs": [],
   "source": [
    "### 데이터 정규화 - volume\n",
    "def volume_normalize_windows(data):\n",
    "    normalized_data = []\n",
    "    avg_window = sum(data, 0.0) / len(data)\n",
    "    \n",
    "    for window in data:\n",
    "        normalized_window = (window / avg_window) -1\n",
    "        normalized_data.append(normalized_window)\n",
    "\n",
    "    return np.array(normalized_data)\n",
    "\n",
    "volume_data = data['Volume'].values\n",
    "\n",
    "norm_volume = volume_normalize_windows(volume_data)\n"
   ]
  },
  {
   "cell_type": "code",
   "execution_count": 6,
   "metadata": {
    "scrolled": true
   },
   "outputs": [],
   "source": [
    "### 데이터 분할\n",
    "def data_gethering(price, volume):    \n",
    "    data_size = price.shape[0]\n",
    "    result =[]\n",
    "\n",
    "    for i in range(data_size):\n",
    "        temp = np.insert(price[i],-1,volume[i])\n",
    "        result.append(temp)\n",
    "        \n",
    "    return np.array(result)\n",
    "\n",
    "norm_result = data_gethering(norm_price, norm_volume)"
   ]
  },
  {
   "cell_type": "code",
   "execution_count": 7,
   "metadata": {},
   "outputs": [
    {
     "data": {
      "text/plain": [
       "((1347, 31, 1), (90, 31, 1))"
      ]
     },
     "execution_count": 7,
     "metadata": {},
     "output_type": "execute_result"
    }
   ],
   "source": [
    "train_cut = -90 # 마지막 3달의 데이터를 test데이터로 한다\n",
    "# int(round(norm_result.shape[0] * 0.90))\n",
    "        \n",
    "train = norm_result[:train_cut, :]\n",
    "np.random.shuffle(train)\n",
    "\n",
    "x_train = train[:, :-1]\n",
    "x_train = np.reshape(x_train, (x_train.shape[0], x_train.shape[1], 1))\n",
    "y_train = train[:, -1]\n",
    "\n",
    "x_test = norm_result[train_cut:, :-1]\n",
    "x_test = np.reshape(x_test, (x_test.shape[0], x_test.shape[1], 1))\n",
    "y_test = norm_result[train_cut:, -1]\n",
    "\n",
    "x_train.shape, x_test.shape"
   ]
  },
  {
   "cell_type": "code",
   "execution_count": 8,
   "metadata": {},
   "outputs": [],
   "source": [
    "### 모델 체크포인터 롤백\n",
    "MODEL_SAVE_FOLBER_PATH = './model/'\n",
    "if not os.path.exists(MODEL_SAVE_FOLBER_PATH):\n",
    "    os.mkdir(MODEL_SAVE_FOLBER_PATH)\n",
    "    \n",
    "model_path = MODEL_SAVE_FOLBER_PATH + '{epoch:02d}-{val_loss:.4f}.hdf5'\n",
    "\n",
    "# 체크포인트 생성 코드\n",
    "cb_checkpoint = ModelCheckpoint(filepath=model_path, monitor='val_loss',verbose=1, save_best_only=True, mode='auto')"
   ]
  },
  {
   "cell_type": "code",
   "execution_count": 9,
   "metadata": {},
   "outputs": [
    {
     "name": "stderr",
     "output_type": "stream",
     "text": [
      "WARNING: Logging before flag parsing goes to stderr.\n",
      "W0826 14:38:33.100063 21600 deprecation_wrapper.py:119] From D:\\_setup\\anaconda3\\envs\\py3.7\\lib\\site-packages\\keras\\backend\\tensorflow_backend.py:74: The name tf.get_default_graph is deprecated. Please use tf.compat.v1.get_default_graph instead.\n",
      "\n",
      "W0826 14:38:33.122026 21600 deprecation_wrapper.py:119] From D:\\_setup\\anaconda3\\envs\\py3.7\\lib\\site-packages\\keras\\backend\\tensorflow_backend.py:517: The name tf.placeholder is deprecated. Please use tf.compat.v1.placeholder instead.\n",
      "\n",
      "W0826 14:38:33.124524 21600 deprecation_wrapper.py:119] From D:\\_setup\\anaconda3\\envs\\py3.7\\lib\\site-packages\\keras\\backend\\tensorflow_backend.py:4138: The name tf.random_uniform is deprecated. Please use tf.random.uniform instead.\n",
      "\n",
      "W0826 14:38:33.837381 21600 deprecation_wrapper.py:119] From D:\\_setup\\anaconda3\\envs\\py3.7\\lib\\site-packages\\keras\\optimizers.py:790: The name tf.train.Optimizer is deprecated. Please use tf.compat.v1.train.Optimizer instead.\n",
      "\n"
     ]
    },
    {
     "name": "stdout",
     "output_type": "stream",
     "text": [
      "_________________________________________________________________\n",
      "Layer (type)                 Output Shape              Param #   \n",
      "=================================================================\n",
      "lstm_1 (LSTM)                (None, 31, 31)            4092      \n",
      "_________________________________________________________________\n",
      "lstm_2 (LSTM)                (None, 31, 31)            7812      \n",
      "_________________________________________________________________\n",
      "lstm_3 (LSTM)                (None, 31, 31)            7812      \n",
      "_________________________________________________________________\n",
      "lstm_4 (LSTM)                (None, 31, 31)            7812      \n",
      "_________________________________________________________________\n",
      "lstm_5 (LSTM)                (None, 31)                7812      \n",
      "_________________________________________________________________\n",
      "dense_1 (Dense)              (None, 1)                 32        \n",
      "=================================================================\n",
      "Total params: 35,372\n",
      "Trainable params: 35,372\n",
      "Non-trainable params: 0\n",
      "_________________________________________________________________\n"
     ]
    }
   ],
   "source": [
    "### 모델 설계\n",
    "model = Sequential()\n",
    "\n",
    "for i in range (4):\n",
    "    model.add(LSTM(31, return_sequences=True, input_shape=(31, 1)))   \n",
    "\n",
    "model.add(LSTM(31, return_sequences=False))\n",
    "\n",
    "model.add(Dense(1, activation='linear'))\n",
    "\n",
    "model.compile(loss='mse', optimizer='rmsprop')\n",
    "\n",
    "model.summary()"
   ]
  },
  {
   "cell_type": "code",
   "execution_count": 9,
   "metadata": {},
   "outputs": [
    {
     "name": "stderr",
     "output_type": "stream",
     "text": [
      "WARNING: Logging before flag parsing goes to stderr.\n",
      "W0925 15:42:43.027387 23712 deprecation_wrapper.py:119] From D:\\_setup\\anaconda3\\envs\\py3.7\\lib\\site-packages\\keras\\backend\\tensorflow_backend.py:74: The name tf.get_default_graph is deprecated. Please use tf.compat.v1.get_default_graph instead.\n",
      "\n",
      "W0925 15:42:43.045891 23712 deprecation_wrapper.py:119] From D:\\_setup\\anaconda3\\envs\\py3.7\\lib\\site-packages\\keras\\backend\\tensorflow_backend.py:517: The name tf.placeholder is deprecated. Please use tf.compat.v1.placeholder instead.\n",
      "\n",
      "W0925 15:42:43.048891 23712 deprecation_wrapper.py:119] From D:\\_setup\\anaconda3\\envs\\py3.7\\lib\\site-packages\\keras\\backend\\tensorflow_backend.py:4138: The name tf.random_uniform is deprecated. Please use tf.random.uniform instead.\n",
      "\n",
      "W0925 15:42:43.808652 23712 deprecation_wrapper.py:119] From D:\\_setup\\anaconda3\\envs\\py3.7\\lib\\site-packages\\keras\\backend\\tensorflow_backend.py:174: The name tf.get_default_session is deprecated. Please use tf.compat.v1.get_default_session instead.\n",
      "\n",
      "W0925 15:42:43.809661 23712 deprecation_wrapper.py:119] From D:\\_setup\\anaconda3\\envs\\py3.7\\lib\\site-packages\\keras\\backend\\tensorflow_backend.py:181: The name tf.ConfigProto is deprecated. Please use tf.compat.v1.ConfigProto instead.\n",
      "\n",
      "W0925 15:42:45.152872 23712 deprecation_wrapper.py:119] From D:\\_setup\\anaconda3\\envs\\py3.7\\lib\\site-packages\\keras\\optimizers.py:790: The name tf.train.Optimizer is deprecated. Please use tf.compat.v1.train.Optimizer instead.\n",
      "\n",
      "W0925 15:42:45.433048 23712 deprecation.py:323] From D:\\_setup\\anaconda3\\envs\\py3.7\\lib\\site-packages\\tensorflow\\python\\ops\\math_grad.py:1250: add_dispatch_support.<locals>.wrapper (from tensorflow.python.ops.array_ops) is deprecated and will be removed in a future version.\n",
      "Instructions for updating:\n",
      "Use tf.where in 2.0, which has the same broadcast rule as np.where\n"
     ]
    }
   ],
   "source": [
    "### 학습 모델 로드\n",
    "model = load_model('ether_prediction_model_achi_1.h5')\n",
    "# model = load_model('ether_prediction_model_achi_2.h5')\n",
    "# model = load_model('ether_prediction_model_achi_3.h5')"
   ]
  },
  {
   "cell_type": "code",
   "execution_count": 11,
   "metadata": {},
   "outputs": [
    {
     "name": "stderr",
     "output_type": "stream",
     "text": [
      "W0826 14:38:36.979815 21600 deprecation.py:323] From D:\\_setup\\anaconda3\\envs\\py3.7\\lib\\site-packages\\tensorflow\\python\\ops\\math_grad.py:1250: add_dispatch_support.<locals>.wrapper (from tensorflow.python.ops.array_ops) is deprecated and will be removed in a future version.\n",
      "Instructions for updating:\n",
      "Use tf.where in 2.0, which has the same broadcast rule as np.where\n",
      "W0826 14:38:39.179798 21600 deprecation_wrapper.py:119] From D:\\_setup\\anaconda3\\envs\\py3.7\\lib\\site-packages\\keras\\backend\\tensorflow_backend.py:986: The name tf.assign_add is deprecated. Please use tf.compat.v1.assign_add instead.\n",
      "\n",
      "W0826 14:38:39.185779 21600 deprecation_wrapper.py:119] From D:\\_setup\\anaconda3\\envs\\py3.7\\lib\\site-packages\\keras\\backend\\tensorflow_backend.py:973: The name tf.assign is deprecated. Please use tf.compat.v1.assign instead.\n",
      "\n"
     ]
    },
    {
     "name": "stdout",
     "output_type": "stream",
     "text": [
      "Train on 1347 samples, validate on 90 samples\n",
      "Epoch 1/30\n",
      "1347/1347 [==============================] - 15s 11ms/step - loss: 0.0531 - val_loss: 0.0848\n",
      "\n",
      "Epoch 00001: val_loss improved from inf to 0.08478, saving model to ./model/01-0.0848.hdf5\n",
      "Epoch 2/30\n",
      "1347/1347 [==============================] - 10s 8ms/step - loss: 0.0267 - val_loss: 0.0648\n",
      "\n",
      "Epoch 00002: val_loss improved from 0.08478 to 0.06480, saving model to ./model/02-0.0648.hdf5\n",
      "Epoch 3/30\n",
      "1347/1347 [==============================] - 10s 8ms/step - loss: 0.0213 - val_loss: 0.0653\n",
      "\n",
      "Epoch 00003: val_loss did not improve from 0.06480\n",
      "Epoch 4/30\n",
      "1347/1347 [==============================] - 10s 7ms/step - loss: 0.0187 - val_loss: 0.0571\n",
      "\n",
      "Epoch 00004: val_loss improved from 0.06480 to 0.05713, saving model to ./model/04-0.0571.hdf5\n",
      "Epoch 5/30\n",
      "1347/1347 [==============================] - 10s 8ms/step - loss: 0.0158 - val_loss: 0.0547\n",
      "\n",
      "Epoch 00005: val_loss improved from 0.05713 to 0.05473, saving model to ./model/05-0.0547.hdf5\n",
      "Epoch 6/30\n",
      "1347/1347 [==============================] - 11s 8ms/step - loss: 0.0142 - val_loss: 0.0512\n",
      "\n",
      "Epoch 00006: val_loss improved from 0.05473 to 0.05125, saving model to ./model/06-0.0512.hdf5\n",
      "Epoch 7/30\n",
      "1347/1347 [==============================] - 10s 8ms/step - loss: 0.0132 - val_loss: 0.0467\n",
      "\n",
      "Epoch 00007: val_loss improved from 0.05125 to 0.04668, saving model to ./model/07-0.0467.hdf5\n",
      "Epoch 8/30\n",
      "1347/1347 [==============================] - 10s 8ms/step - loss: 0.0130 - val_loss: 0.0473\n",
      "\n",
      "Epoch 00008: val_loss did not improve from 0.04668\n",
      "Epoch 9/30\n",
      "1347/1347 [==============================] - 11s 8ms/step - loss: 0.0124 - val_loss: 0.0551\n",
      "\n",
      "Epoch 00009: val_loss did not improve from 0.04668\n",
      "Epoch 10/30\n",
      "1347/1347 [==============================] - 10s 8ms/step - loss: 0.0118 - val_loss: 0.0646\n",
      "\n",
      "Epoch 00010: val_loss did not improve from 0.04668\n",
      "Epoch 11/30\n",
      "1347/1347 [==============================] - 10s 8ms/step - loss: 0.0114 - val_loss: 0.0608\n",
      "\n",
      "Epoch 00011: val_loss did not improve from 0.04668\n",
      "Epoch 12/30\n",
      "1347/1347 [==============================] - 10s 8ms/step - loss: 0.0115 - val_loss: 0.0456\n",
      "\n",
      "Epoch 00012: val_loss improved from 0.04668 to 0.04557, saving model to ./model/12-0.0456.hdf5\n",
      "Epoch 13/30\n",
      "1347/1347 [==============================] - 10s 8ms/step - loss: 0.0109 - val_loss: 0.0448\n",
      "\n",
      "Epoch 00013: val_loss improved from 0.04557 to 0.04483, saving model to ./model/13-0.0448.hdf5\n",
      "Epoch 14/30\n",
      "1347/1347 [==============================] - 10s 8ms/step - loss: 0.0112 - val_loss: 0.0523\n",
      "\n",
      "Epoch 00014: val_loss did not improve from 0.04483\n",
      "Epoch 15/30\n",
      "1347/1347 [==============================] - 10s 8ms/step - loss: 0.0108 - val_loss: 0.0504\n",
      "\n",
      "Epoch 00015: val_loss did not improve from 0.04483\n",
      "Epoch 16/30\n",
      "1347/1347 [==============================] - 10s 8ms/step - loss: 0.0106 - val_loss: 0.0546\n",
      "\n",
      "Epoch 00016: val_loss did not improve from 0.04483\n",
      "Epoch 17/30\n",
      "1347/1347 [==============================] - 10s 8ms/step - loss: 0.0105 - val_loss: 0.0578\n",
      "\n",
      "Epoch 00017: val_loss did not improve from 0.04483\n",
      "Epoch 18/30\n",
      "1347/1347 [==============================] - 10s 8ms/step - loss: 0.0103 - val_loss: 0.0601\n",
      "\n",
      "Epoch 00018: val_loss did not improve from 0.04483\n",
      "Epoch 19/30\n",
      "1347/1347 [==============================] - 10s 8ms/step - loss: 0.0102 - val_loss: 0.0589\n",
      "\n",
      "Epoch 00019: val_loss did not improve from 0.04483\n",
      "Epoch 20/30\n",
      "1347/1347 [==============================] - 10s 8ms/step - loss: 0.0098 - val_loss: 0.0494\n",
      "\n",
      "Epoch 00020: val_loss did not improve from 0.04483\n",
      "Epoch 21/30\n",
      "1347/1347 [==============================] - 10s 8ms/step - loss: 0.0094 - val_loss: 0.0488\n",
      "\n",
      "Epoch 00021: val_loss did not improve from 0.04483\n",
      "Epoch 22/30\n",
      "1347/1347 [==============================] - 10s 7ms/step - loss: 0.0095 - val_loss: 0.0579\n",
      "\n",
      "Epoch 00022: val_loss did not improve from 0.04483\n",
      "Epoch 23/30\n",
      "1347/1347 [==============================] - 10s 8ms/step - loss: 0.0090 - val_loss: 0.0550\n",
      "\n",
      "Epoch 00023: val_loss did not improve from 0.04483\n",
      "Epoch 24/30\n",
      "1347/1347 [==============================] - 10s 7ms/step - loss: 0.0088 - val_loss: 0.0452\n",
      "\n",
      "Epoch 00024: val_loss did not improve from 0.04483\n",
      "Epoch 25/30\n",
      "1347/1347 [==============================] - 10s 8ms/step - loss: 0.0088 - val_loss: 0.0485\n",
      "\n",
      "Epoch 00025: val_loss did not improve from 0.04483\n",
      "Epoch 26/30\n",
      "1347/1347 [==============================] - 10s 8ms/step - loss: 0.0083 - val_loss: 0.0535\n",
      "\n",
      "Epoch 00026: val_loss did not improve from 0.04483\n",
      "Epoch 27/30\n",
      "1347/1347 [==============================] - 10s 8ms/step - loss: 0.0088 - val_loss: 0.0638\n",
      "\n",
      "Epoch 00027: val_loss did not improve from 0.04483\n",
      "Epoch 28/30\n",
      "1347/1347 [==============================] - 11s 8ms/step - loss: 0.0084 - val_loss: 0.0484\n",
      "\n",
      "Epoch 00028: val_loss did not improve from 0.04483\n",
      "Epoch 29/30\n",
      "1347/1347 [==============================] - 11s 8ms/step - loss: 0.0083 - val_loss: 0.0467\n",
      "\n",
      "Epoch 00029: val_loss did not improve from 0.04483\n",
      "Epoch 30/30\n",
      "1347/1347 [==============================] - 10s 8ms/step - loss: 0.0078 - val_loss: 0.0408\n",
      "\n",
      "Epoch 00030: val_loss improved from 0.04483 to 0.04079, saving model to ./model/30-0.0408.hdf5\n"
     ]
    },
    {
     "data": {
      "text/plain": [
       "<keras.callbacks.History at 0x1d54a225208>"
      ]
     },
     "execution_count": 11,
     "metadata": {},
     "output_type": "execute_result"
    }
   ],
   "source": [
    "### 모델 학습\n",
    "start_time = datetime.datetime.now().strftime('%Y_%m_%d_%H_%M_%S')\n",
    "\n",
    "model.fit(x_train, y_train, validation_data=(x_test, y_test), epochs=30, batch_size=30, callbacks=[cb_checkpoint])"
   ]
  },
  {
   "cell_type": "code",
   "execution_count": 13,
   "metadata": {},
   "outputs": [],
   "source": [
    "## 모델 저장\n",
    "model. save('ether_prediction_model_achi_1.h5')"
   ]
  },
  {
   "cell_type": "code",
   "execution_count": 10,
   "metadata": {},
   "outputs": [
    {
     "data": {
      "image/png": "[encoded data removed]",
      "text/plain": [
       "<Figure size 1440x720 with 1 Axes>"
      ]
     },
     "metadata": {},
     "output_type": "display_data"
    }
   ],
   "source": [
    "pred = model.predict(x_test)\n",
    "\n",
    "fig = plt.figure(facecolor='white', figsize=(20, 10))\n",
    "ax = fig.add_subplot(111)\n",
    "ax.plot(y_test, label='True')\n",
    "ax.plot(pred, label='Prediction')\n",
    "ax.legend()\n",
    "ax.grid(linestyle='-', linewidth=1,)\n",
    "plt.ylim([-2, 2])\n",
    "plt.show()"
   ]
  },
  {
   "cell_type": "code",
   "execution_count": null,
   "metadata": {},
   "outputs": [],
   "source": []
  }
 ],
 "metadata": {
  "kernelspec": {
   "display_name": "Python 3",
   "language": "python",
   "name": "python3"
  },
  "language_info": {
   "codemirror_mode": {
    "name": "ipython",
    "version": 3
   },
   "file_extension": ".py",
   "mimetype": "text/x-python",
   "name": "python",
   "nbconvert_exporter": "python",
   "pygments_lexer": "ipython3",
   "version": "3.7.3"
  }
 },
 "nbformat": 4,
 "nbformat_minor": 2
}
