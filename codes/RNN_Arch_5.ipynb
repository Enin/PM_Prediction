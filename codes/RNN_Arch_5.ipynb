{
 "cells": [
  {
   "cell_type": "code",
   "execution_count": 1,
   "metadata": {},
   "outputs": [
    {
     "name": "stderr",
     "output_type": "stream",
     "text": [
      "Using TensorFlow backend.\n"
     ]
    }
   ],
   "source": [
    "import pandas as pd\n",
    "import numpy as np\n",
    "import matplotlib.pyplot as plt\n",
    "from keras.models import Sequential\n",
    "from keras.layers import LSTM, Dropout, Dense, Activation, Conv1D, GlobalMaxPooling1D, MaxPooling1D, SimpleRNN\n",
    "from keras.callbacks import TensorBoard, ModelCheckpoint, ReduceLROnPlateau\n",
    "from keras.models import load_model\n",
    "\n",
    "import datetime\n",
    "import os"
   ]
  },
  {
   "cell_type": "code",
   "execution_count": 2,
   "metadata": {},
   "outputs": [],
   "source": [
    "## 하이퍼 파라메터\n",
    "\n",
    "delta = 1e-7\n",
    "seq_len = 7\n",
    "test_date = 304\n",
    "\n",
    "level_1 = 30\n",
    "level_2 = 80\n",
    "level_3 = 150\n",
    "\n",
    "num_level = 4\n",
    "\n",
    "pm_target = level_3 * 2\n",
    "wind_speed_target = 14 # 강한 바람\n",
    "wind_direction_target = 360 # 16방위\n",
    "\n",
    "year = 365\n",
    "train_cut = year * 9 + 1 -30\n",
    "\n",
    "test_cut = -test_date"
   ]
  },
  {
   "cell_type": "code",
   "execution_count": 3,
   "metadata": {
    "scrolled": true
   },
   "outputs": [
    {
     "data": {
      "text/html": [
       "<div>\n",
       "<style scoped>\n",
       "    .dataframe tbody tr th:only-of-type {\n",
       "        vertical-align: middle;\n",
       "    }\n",
       "\n",
       "    .dataframe tbody tr th {\n",
       "        vertical-align: top;\n",
       "    }\n",
       "\n",
       "    .dataframe thead th {\n",
       "        text-align: right;\n",
       "    }\n",
       "</style>\n",
       "<table border=\"1\" class=\"dataframe\">\n",
       "  <thead>\n",
       "    <tr style=\"text-align: right;\">\n",
       "      <th></th>\n",
       "      <th>PM Seoul</th>\n",
       "      <th>PM Beijing</th>\n",
       "      <th>avg temprature</th>\n",
       "      <th>avg humidity</th>\n",
       "      <th>avg wind speed seoul</th>\n",
       "      <th>max wind direction seoul</th>\n",
       "      <th>avg wind speed back</th>\n",
       "      <th>max wind direction back</th>\n",
       "    </tr>\n",
       "    <tr>\n",
       "      <th>date</th>\n",
       "      <th></th>\n",
       "      <th></th>\n",
       "      <th></th>\n",
       "      <th></th>\n",
       "      <th></th>\n",
       "      <th></th>\n",
       "      <th></th>\n",
       "      <th></th>\n",
       "    </tr>\n",
       "  </thead>\n",
       "  <tbody>\n",
       "    <tr>\n",
       "      <th>2009-01-01</th>\n",
       "      <td>43.739130</td>\n",
       "      <td>181.083875</td>\n",
       "      <td>-5.8</td>\n",
       "      <td>45.8</td>\n",
       "      <td>2.3</td>\n",
       "      <td>290.0</td>\n",
       "      <td>4.5</td>\n",
       "      <td>320</td>\n",
       "    </tr>\n",
       "    <tr>\n",
       "      <th>2009-01-02</th>\n",
       "      <td>45.750000</td>\n",
       "      <td>168.780998</td>\n",
       "      <td>-2.8</td>\n",
       "      <td>51.5</td>\n",
       "      <td>1.6</td>\n",
       "      <td>290.0</td>\n",
       "      <td>4.2</td>\n",
       "      <td>320</td>\n",
       "    </tr>\n",
       "    <tr>\n",
       "      <th>2009-01-03</th>\n",
       "      <td>46.833333</td>\n",
       "      <td>177.560185</td>\n",
       "      <td>-1.0</td>\n",
       "      <td>48.3</td>\n",
       "      <td>1.8</td>\n",
       "      <td>20.0</td>\n",
       "      <td>2.8</td>\n",
       "      <td>320</td>\n",
       "    </tr>\n",
       "    <tr>\n",
       "      <th>2009-01-04</th>\n",
       "      <td>40.083333</td>\n",
       "      <td>169.828704</td>\n",
       "      <td>0.4</td>\n",
       "      <td>44.3</td>\n",
       "      <td>1.9</td>\n",
       "      <td>290.0</td>\n",
       "      <td>3.1</td>\n",
       "      <td>290</td>\n",
       "    </tr>\n",
       "    <tr>\n",
       "      <th>2009-01-05</th>\n",
       "      <td>58.541667</td>\n",
       "      <td>140.598765</td>\n",
       "      <td>-1.6</td>\n",
       "      <td>53.1</td>\n",
       "      <td>2.2</td>\n",
       "      <td>290.0</td>\n",
       "      <td>5.0</td>\n",
       "      <td>290</td>\n",
       "    </tr>\n",
       "  </tbody>\n",
       "</table>\n",
       "</div>"
      ],
      "text/plain": [
       "             PM Seoul  PM Beijing  avg temprature  avg humidity  \\\n",
       "date                                                              \n",
       "2009-01-01  43.739130  181.083875            -5.8          45.8   \n",
       "2009-01-02  45.750000  168.780998            -2.8          51.5   \n",
       "2009-01-03  46.833333  177.560185            -1.0          48.3   \n",
       "2009-01-04  40.083333  169.828704             0.4          44.3   \n",
       "2009-01-05  58.541667  140.598765            -1.6          53.1   \n",
       "\n",
       "            avg wind speed seoul  max wind direction seoul  \\\n",
       "date                                                         \n",
       "2009-01-01                   2.3                     290.0   \n",
       "2009-01-02                   1.6                     290.0   \n",
       "2009-01-03                   1.8                      20.0   \n",
       "2009-01-04                   1.9                     290.0   \n",
       "2009-01-05                   2.2                     290.0   \n",
       "\n",
       "            avg wind speed back  max wind direction back  \n",
       "date                                                      \n",
       "2009-01-01                  4.5                      320  \n",
       "2009-01-02                  4.2                      320  \n",
       "2009-01-03                  2.8                      320  \n",
       "2009-01-04                  3.1                      290  \n",
       "2009-01-05                  5.0                      290  "
      ]
     },
     "execution_count": 3,
     "metadata": {},
     "output_type": "execute_result"
    }
   ],
   "source": [
    "### 데이터 로드\n",
    "data = pd.read_csv('dataset/PM_2.5_dataset_09_19.csv', index_col=0)\n",
    "data.head()"
   ]
  },
  {
   "cell_type": "code",
   "execution_count": null,
   "metadata": {},
   "outputs": [],
   "source": []
  },
  {
   "cell_type": "code",
   "execution_count": 3,
   "metadata": {},
   "outputs": [],
   "source": [
    "## 정규화 함수\n",
    "def normalize_windows(data):\n",
    "    normalized_data = []\n",
    "    head = []\n",
    "\n",
    "    for window in data:\n",
    "        head.append(window[0])\n",
    "        normalized_window = [((float(p) / float(window[0])) - 1) for p in window]\n",
    "        normalized_data.append(normalized_window)\n",
    "        \n",
    "    return np.array(normalized_data), head"
   ]
  },
  {
   "cell_type": "code",
   "execution_count": 4,
   "metadata": {},
   "outputs": [
    {
     "name": "stdout",
     "output_type": "stream",
     "text": [
      "[ 0.          0.04597416  0.07074221 -0.08358184  0.33842777  1.19483101\n",
      "  0.90047217  0.65088635  0.4917992   0.23649768 -0.05119284  0.20982439\n",
      " -0.0273774   0.42702121 -0.11787608  0.22982936  1.15196322  1.48156892\n",
      "  0.8699884   0.10884692  0.28317594  0.39463221  0.68899105  0.01358516\n",
      "  0.07360007 -0.2436216   0.04121107  0.04216368  0.34128562 -0.11501822\n",
      " -0.50940192]\n",
      "43.73913043\n"
     ]
    }
   ],
   "source": [
    "### 데이터 전처리\n",
    "pm_data = data['PM'].values\n",
    "\n",
    "seq_len = 30\n",
    "sequence_length = seq_len + 1\n",
    "\n",
    "pm = []\n",
    "for index in range(len(pm_data) - sequence_length):\n",
    "    pm.append(pm_data[index: index + sequence_length])\n",
    "    \n",
    "norm_pm, head_pm = normalize_windows(pm)\n",
    "print(norm_pm[0])\n",
    "print(head_pm[0])"
   ]
  },
  {
   "cell_type": "code",
   "execution_count": 5,
   "metadata": {},
   "outputs": [
    {
     "name": "stdout",
     "output_type": "stream",
     "text": [
      "[ 0.         -0.51724138 -0.82758621 -1.06896552 -0.72413793 -0.65517241\n",
      " -0.9137931  -0.84482759 -0.39655172  0.29310345  0.37931034  0.34482759\n",
      " -0.05172414  0.13793103  0.0862069  -0.51724138 -0.75862069 -1.44827586\n",
      " -1.10344828 -1.37931034 -1.67241379 -1.62068966  0.55172414  0.39655172\n",
      " -0.20689655 -0.43103448 -0.67241379 -1.25862069 -1.56896552 -2.\n",
      " -2.05172414]\n"
     ]
    }
   ],
   "source": [
    "## temprature data\n",
    "temprature_data = data['temprature'].values\n",
    "delta = 1e-7\n",
    "for i in range(len(temprature_data)):\n",
    "    if temprature_data[i] == 0:\n",
    "        temprature_data[i] = temprature_data[i]+delta\n",
    "\n",
    "temprature = []\n",
    "for index in range(len(temprature_data) - sequence_length):\n",
    "    temprature.append(temprature_data[index: index + sequence_length])\n",
    "    \n",
    "norm_temprature, _ = normalize_windows(temprature)\n",
    "print(norm_temprature[0])"
   ]
  },
  {
   "cell_type": "code",
   "execution_count": 6,
   "metadata": {},
   "outputs": [
    {
     "name": "stdout",
     "output_type": "stream",
     "text": [
      "[ 0.          0.12445415  0.05458515 -0.03275109  0.15938865  0.09170306\n",
      " -0.08296943 -0.08296943 -0.06113537 -0.08296943 -0.13755459  0.0371179\n",
      " -0.01091703 -0.13537118 -0.2489083   0.76419214  0.6768559   0.56768559\n",
      "  0.04803493 -0.33842795  0.17030568  0.34497817 -0.15720524  0.37336245\n",
      "  0.4279476   0.3930131   0.15283843 -0.08078603 -0.19213974  0.01746725\n",
      "  0.10043668]\n"
     ]
    }
   ],
   "source": [
    "## humidity data\n",
    "humidity_data = data['humidity'].values\n",
    "\n",
    "humidity = []\n",
    "for index in range(len(humidity_data) - sequence_length):\n",
    "    humidity.append(humidity_data[index: index + sequence_length])\n",
    "    \n",
    "norm_humidity, _ = normalize_windows(humidity)\n",
    "print(norm_humidity[0])"
   ]
  },
  {
   "cell_type": "code",
   "execution_count": 7,
   "metadata": {},
   "outputs": [
    {
     "name": "stdout",
     "output_type": "stream",
     "text": [
      "[ 0.         -0.17777778 -0.13333333 -0.04444444  0.         -0.31111111\n",
      " -0.11111111 -0.06666667  0.02222222  0.11111111  0.62222222  0.48888889\n",
      " -0.08888889  0.31111111 -0.15555556 -0.28888889 -0.22222222  0.35555556\n",
      "  0.35555556 -0.26666667  0.08888889  0.8         0.77777778  0.31111111\n",
      "  0.55555556  0.24444444 -0.13333333 -0.26666667 -0.31111111  0.22222222\n",
      "  0.02222222]\n"
     ]
    }
   ],
   "source": [
    "## wind data\n",
    "wind_speed_data = data['max wind speed'].values\n",
    "\n",
    "wind_speed = []\n",
    "for index in range(len(wind_speed_data) - sequence_length):\n",
    "    wind_speed.append(wind_speed_data[index: index + sequence_length])\n",
    "    \n",
    "norm_wind_speed, _ = normalize_windows(wind_speed)\n",
    "print(norm_wind_speed[0])"
   ]
  },
  {
   "cell_type": "code",
   "execution_count": 8,
   "metadata": {},
   "outputs": [
    {
     "name": "stdout",
     "output_type": "stream",
     "text": [
      "[ 0.         -0.20689655 -0.13793103  0.         -0.06896552  0.\n",
      "  0.          0.          0.         -0.06896552  0.         -0.06896552\n",
      "  0.          0.         -0.13793103 -0.82758621 -0.82758621 -0.06896552\n",
      " -0.06896552  0.         -0.31034483 -0.06896552  0.         -0.13793103\n",
      " -0.13793103 -0.06896552 -0.13793103 -0.75862069 -0.06896552 -0.75862069\n",
      " -0.82758621]\n"
     ]
    }
   ],
   "source": [
    "## wind direction data\n",
    "wind_direction_data = data['wind direction'].values\n",
    "\n",
    "wind_direction = []\n",
    "for index in range(len(wind_direction_data) - sequence_length):\n",
    "    wind_direction.append(wind_direction_data[index: index + sequence_length])\n",
    "    \n",
    "norm_wind_direction, _ = normalize_windows(wind_direction)\n",
    "print(norm_wind_direction[0])"
   ]
  },
  {
   "cell_type": "code",
   "execution_count": 9,
   "metadata": {},
   "outputs": [
    {
     "name": "stdout",
     "output_type": "stream",
     "text": [
      "[ 0.          0.          0.          0.          0.          0.\n",
      "  0.04597416  0.04597416 -0.51724138  0.12445415 -0.17777778 -0.20689655\n",
      "  0.07074221  0.07074221 -0.82758621  0.05458515 -0.13333333 -0.13793103\n",
      " -0.08358184 -0.08358184 -1.06896552 -0.03275109 -0.04444444  0.\n",
      "  0.33842777  0.33842777 -0.72413793  0.15938865  0.         -0.06896552\n",
      "  1.19483101  1.19483101 -0.65517241  0.09170306 -0.31111111  0.\n",
      "  0.90047217  0.90047217 -0.9137931  -0.08296943 -0.11111111  0.\n",
      "  0.65088635  0.65088635 -0.84482759 -0.08296943 -0.06666667  0.\n",
      "  0.4917992   0.4917992  -0.39655172 -0.06113537  0.02222222  0.\n",
      "  0.23649768  0.23649768  0.29310345 -0.08296943  0.11111111 -0.06896552\n",
      " -0.05119284 -0.05119284  0.37931034 -0.13755459  0.62222222  0.\n",
      "  0.20982439  0.20982439  0.34482759  0.0371179   0.48888889 -0.06896552\n",
      " -0.0273774  -0.0273774  -0.05172414 -0.01091703 -0.08888889  0.\n",
      "  0.42702121  0.42702121  0.13793103 -0.13537118  0.31111111  0.\n",
      " -0.11787608 -0.11787608  0.0862069  -0.2489083  -0.15555556 -0.13793103\n",
      "  0.22982936  0.22982936 -0.51724138  0.76419214 -0.28888889 -0.82758621\n",
      "  1.15196322  1.15196322 -0.75862069  0.6768559  -0.22222222 -0.82758621\n",
      "  1.48156892  1.48156892 -1.44827586  0.56768559  0.35555556 -0.06896552\n",
      "  0.8699884   0.8699884  -1.10344828  0.04803493  0.35555556 -0.06896552\n",
      "  0.10884692  0.10884692 -1.37931034 -0.33842795 -0.26666667  0.\n",
      "  0.28317594  0.28317594 -1.67241379  0.17030568  0.08888889 -0.31034483\n",
      "  0.39463221  0.39463221 -1.62068966  0.34497817  0.8        -0.06896552\n",
      "  0.68899105  0.68899105  0.55172414 -0.15720524  0.77777778  0.\n",
      "  0.01358516  0.01358516  0.39655172  0.37336245  0.31111111 -0.13793103\n",
      "  0.07360007  0.07360007 -0.20689655  0.4279476   0.55555556 -0.13793103\n",
      " -0.2436216  -0.2436216  -0.43103448  0.3930131   0.24444444 -0.06896552\n",
      "  0.04121107  0.04121107 -0.67241379  0.15283843 -0.13333333 -0.13793103\n",
      "  0.04216368  0.04216368 -1.25862069 -0.08078603 -0.26666667 -0.75862069\n",
      "  0.34128562  0.34128562 -1.56896552 -0.19213974 -0.31111111 -0.06896552\n",
      " -0.11501822 -0.11501822 -2.          0.01746725  0.22222222 -0.75862069\n",
      " -0.50940192]\n"
     ]
    }
   ],
   "source": [
    "def marge_data(a, b, c, d, e):\n",
    "    marged_data = []\n",
    "    marge = []\n",
    "    \n",
    "    for a_index, b_index, c_index, d_index, e_index in zip(a, b, c, d, e):\n",
    "        for i in range(len(a_index)):\n",
    "            marge.append(a_index[i])\n",
    "            marge.append(a_index[i]) # 1번 2개 입력\n",
    "            marge.append(b_index[i])\n",
    "            marge.append(c_index[i])\n",
    "            marge.append(d_index[i])\n",
    "            marge.append(e_index[i])\n",
    "        \n",
    "        for i in range(5):\n",
    "            marge.pop()\n",
    "        \n",
    "        marged_data.append(marge)\n",
    "        marge = []\n",
    "    \n",
    "    return np.array(marged_data)\n",
    "\n",
    "norm_result = marge_data(norm_pm, norm_temprature, norm_humidity, norm_wind_speed, norm_wind_direction)\n",
    "print(norm_result[0])"
   ]
  },
  {
   "cell_type": "code",
   "execution_count": 10,
   "metadata": {},
   "outputs": [
    {
     "data": {
      "text/plain": [
       "(3621, 181)"
      ]
     },
     "execution_count": 10,
     "metadata": {},
     "output_type": "execute_result"
    }
   ],
   "source": [
    "norm_result.shape"
   ]
  },
  {
   "cell_type": "code",
   "execution_count": 11,
   "metadata": {},
   "outputs": [
    {
     "name": "stdout",
     "output_type": "stream",
     "text": [
      "(3256, 180, 1) (365, 180, 1)\n",
      "(3256, 1) (365, 1)\n"
     ]
    }
   ],
   "source": [
    "#train_cut = int(round(norm_result.shape[0] * 0.85))\n",
    "year=365\n",
    "train_cut = norm_result.shape[0] - year\n",
    "\n",
    "#valid_cut = 3256\n",
    "        \n",
    "train = norm_result[:train_cut, :]\n",
    "#np.random.shuffle(train)\n",
    "\n",
    "#valid = norm_result[train_cut:valid_cut, :]\n",
    "#np.random.shuffle(valid)\n",
    "\n",
    "test = norm_result[train_cut:, :]\n",
    "\n",
    "x_train = train[:, :-1]\n",
    "x_train = np.reshape(x_train, (x_train.shape[0], x_train.shape[1], 1))\n",
    "y_train = train[:,-1]\n",
    "y_train = np.reshape(y_train, (y_train.shape[0], 1))\n",
    "\n",
    "#x_valid = valid[:, :-1]\n",
    "#x_valid = np.reshape(x_valid, (x_valid.shape[0], x_valid.shape[1], 1))\n",
    "#y_valid = valid[:,-1]\n",
    "#y_valid = np.reshape(y_valid, (y_valid.shape[0], 1))\n",
    "\n",
    "x_test = norm_result[train_cut:, :-1]\n",
    "x_test = np.reshape(x_test, (x_test.shape[0], x_test.shape[1], 1))\n",
    "y_test = norm_result[train_cut:,-1]\n",
    "y_test = np.reshape(y_test, (y_test.shape[0], 1))\n",
    "\n",
    "print(x_train.shape, x_test.shape)\n",
    "print(y_train.shape, y_test.shape)"
   ]
  },
  {
   "cell_type": "code",
   "execution_count": 13,
   "metadata": {},
   "outputs": [],
   "source": [
    "### 모델 체크포인터 롤백\n",
    "MODEL_SAVE_FOLBER_PATH = './model/checkpoint_archi_5/'\n",
    "if not os.path.exists(MODEL_SAVE_FOLBER_PATH):\n",
    "    os.mkdir(MODEL_SAVE_FOLBER_PATH)\n",
    "    \n",
    "model_path = MODEL_SAVE_FOLBER_PATH + '{epoch:02d}-{val_loss:.4f}.hdf5'\n",
    "\n",
    "# 체크포인트 생성 코드\n",
    "cb_checkpoint = ModelCheckpoint(filepath=model_path, monitor='val_loss',verbose=1, save_best_only=True, mode='auto')"
   ]
  },
  {
   "cell_type": "code",
   "execution_count": 13,
   "metadata": {
    "scrolled": true
   },
   "outputs": [],
   "source": [
    "### 학습 모델 로드\n",
    "\n",
    "# model = load_model('model/pm_prediction_model_achi_5.h5')"
   ]
  },
  {
   "cell_type": "code",
   "execution_count": 17,
   "metadata": {},
   "outputs": [
    {
     "name": "stdout",
     "output_type": "stream",
     "text": [
      "_________________________________________________________________\n",
      "Layer (type)                 Output Shape              Param #   \n",
      "=================================================================\n",
      "conv1d_9 (Conv1D)            (None, 90, 180)           540       \n",
      "_________________________________________________________________\n",
      "conv1d_10 (Conv1D)           (None, 30, 90)            48690     \n",
      "_________________________________________________________________\n",
      "lstm_13 (LSTM)               (None, 30, 60)            36240     \n",
      "_________________________________________________________________\n",
      "dropout_10 (Dropout)         (None, 30, 60)            0         \n",
      "_________________________________________________________________\n",
      "lstm_14 (LSTM)               (None, 30, 60)            29040     \n",
      "_________________________________________________________________\n",
      "dropout_11 (Dropout)         (None, 30, 60)            0         \n",
      "_________________________________________________________________\n",
      "lstm_15 (LSTM)               (None, 30, 60)            29040     \n",
      "_________________________________________________________________\n",
      "dropout_12 (Dropout)         (None, 30, 60)            0         \n",
      "_________________________________________________________________\n",
      "lstm_16 (LSTM)               (None, 30)                10920     \n",
      "_________________________________________________________________\n",
      "dense_4 (Dense)              (None, 1)                 31        \n",
      "=================================================================\n",
      "Total params: 154,501\n",
      "Trainable params: 154,501\n",
      "Non-trainable params: 0\n",
      "_________________________________________________________________\n"
     ]
    }
   ],
   "source": [
    "### VCRNN 모델 설계\n",
    "model = Sequential()\n",
    "\n",
    "\n",
    "model.add(Conv1D(180, 2, activation='relu',strides=2, input_shape=(180,1)))\n",
    "model.add(Conv1D(90, 3, activation='relu',strides=3, padding=\"same\"))\n",
    "#model.add(Conv1D(30, 3, activation='relu',strides=1, padding=\"same\"))\n",
    "\n",
    "for i in range (3):\n",
    "    model.add(LSTM(60, return_sequences=True))\n",
    "    model.add(Dropout(0.5))\n",
    "\n",
    "model.add(LSTM(30, return_sequences=False))\n",
    "\n",
    "model.add(Dense(1, activation='linear'))\n",
    "\n",
    "model.compile(loss='mse', optimizer='Nadam')\n",
    "\n",
    "model.summary()"
   ]
  },
  {
   "cell_type": "code",
   "execution_count": 18,
   "metadata": {},
   "outputs": [
    {
     "name": "stdout",
     "output_type": "stream",
     "text": [
      "Epoch 1/30\n",
      "3256/3256 [==============================] - 9s 3ms/step - loss: 1.1986\n",
      "Epoch 2/30\n",
      "3256/3256 [==============================] - 6s 2ms/step - loss: 1.1922A: 2s\n",
      "Epoch 3/30\n",
      "3200/3256 [============================>.] - ETA: 0s - loss: 1.1993"
     ]
    },
    {
     "ename": "KeyboardInterrupt",
     "evalue": "",
     "output_type": "error",
     "traceback": [
      "\u001b[1;31m---------------------------------------------------------------------------\u001b[0m",
      "\u001b[1;31mKeyboardInterrupt\u001b[0m                         Traceback (most recent call last)",
      "\u001b[1;32m<ipython-input-18-93680a239649>\u001b[0m in \u001b[0;36m<module>\u001b[1;34m\u001b[0m\n\u001b[0;32m      2\u001b[0m \u001b[0mstart_time\u001b[0m \u001b[1;33m=\u001b[0m \u001b[0mdatetime\u001b[0m\u001b[1;33m.\u001b[0m\u001b[0mdatetime\u001b[0m\u001b[1;33m.\u001b[0m\u001b[0mnow\u001b[0m\u001b[1;33m(\u001b[0m\u001b[1;33m)\u001b[0m\u001b[1;33m.\u001b[0m\u001b[0mstrftime\u001b[0m\u001b[1;33m(\u001b[0m\u001b[1;34m'%Y_%m_%d_%H_%M_%S'\u001b[0m\u001b[1;33m)\u001b[0m\u001b[1;33m\u001b[0m\u001b[1;33m\u001b[0m\u001b[0m\n\u001b[0;32m      3\u001b[0m \u001b[1;33m\u001b[0m\u001b[0m\n\u001b[1;32m----> 4\u001b[1;33m \u001b[0mhist\u001b[0m \u001b[1;33m=\u001b[0m \u001b[0mmodel\u001b[0m\u001b[1;33m.\u001b[0m\u001b[0mfit\u001b[0m\u001b[1;33m(\u001b[0m\u001b[0mx_train\u001b[0m\u001b[1;33m,\u001b[0m \u001b[0my_train\u001b[0m\u001b[1;33m,\u001b[0m \u001b[0mepochs\u001b[0m\u001b[1;33m=\u001b[0m\u001b[1;36m30\u001b[0m\u001b[1;33m,\u001b[0m \u001b[0mbatch_size\u001b[0m\u001b[1;33m=\u001b[0m\u001b[1;36m100\u001b[0m\u001b[1;33m)\u001b[0m\u001b[1;33m\u001b[0m\u001b[1;33m\u001b[0m\u001b[0m\n\u001b[0m\u001b[0;32m      5\u001b[0m \u001b[1;31m# hist = model.fit(x_train, y_train, validation_data=(x_valid, y_valid), epochs=30, batch_size=64, callbacks=[cb_checkpoint])\u001b[0m\u001b[1;33m\u001b[0m\u001b[1;33m\u001b[0m\u001b[1;33m\u001b[0m\u001b[0m\n",
      "\u001b[1;32mD:\\_setup\\anaconda3\\envs\\py3.7\\lib\\site-packages\\keras\\engine\\training.py\u001b[0m in \u001b[0;36mfit\u001b[1;34m(self, x, y, batch_size, epochs, verbose, callbacks, validation_split, validation_data, shuffle, class_weight, sample_weight, initial_epoch, steps_per_epoch, validation_steps, **kwargs)\u001b[0m\n\u001b[0;32m   1037\u001b[0m                                         \u001b[0minitial_epoch\u001b[0m\u001b[1;33m=\u001b[0m\u001b[0minitial_epoch\u001b[0m\u001b[1;33m,\u001b[0m\u001b[1;33m\u001b[0m\u001b[1;33m\u001b[0m\u001b[0m\n\u001b[0;32m   1038\u001b[0m                                         \u001b[0msteps_per_epoch\u001b[0m\u001b[1;33m=\u001b[0m\u001b[0msteps_per_epoch\u001b[0m\u001b[1;33m,\u001b[0m\u001b[1;33m\u001b[0m\u001b[1;33m\u001b[0m\u001b[0m\n\u001b[1;32m-> 1039\u001b[1;33m                                         validation_steps=validation_steps)\n\u001b[0m\u001b[0;32m   1040\u001b[0m \u001b[1;33m\u001b[0m\u001b[0m\n\u001b[0;32m   1041\u001b[0m     def evaluate(self, x=None, y=None,\n",
      "\u001b[1;32mD:\\_setup\\anaconda3\\envs\\py3.7\\lib\\site-packages\\keras\\engine\\training_arrays.py\u001b[0m in \u001b[0;36mfit_loop\u001b[1;34m(model, f, ins, out_labels, batch_size, epochs, verbose, callbacks, val_f, val_ins, shuffle, callback_metrics, initial_epoch, steps_per_epoch, validation_steps)\u001b[0m\n\u001b[0;32m    197\u001b[0m                     \u001b[0mins_batch\u001b[0m\u001b[1;33m[\u001b[0m\u001b[0mi\u001b[0m\u001b[1;33m]\u001b[0m \u001b[1;33m=\u001b[0m \u001b[0mins_batch\u001b[0m\u001b[1;33m[\u001b[0m\u001b[0mi\u001b[0m\u001b[1;33m]\u001b[0m\u001b[1;33m.\u001b[0m\u001b[0mtoarray\u001b[0m\u001b[1;33m(\u001b[0m\u001b[1;33m)\u001b[0m\u001b[1;33m\u001b[0m\u001b[1;33m\u001b[0m\u001b[0m\n\u001b[0;32m    198\u001b[0m \u001b[1;33m\u001b[0m\u001b[0m\n\u001b[1;32m--> 199\u001b[1;33m                 \u001b[0mouts\u001b[0m \u001b[1;33m=\u001b[0m \u001b[0mf\u001b[0m\u001b[1;33m(\u001b[0m\u001b[0mins_batch\u001b[0m\u001b[1;33m)\u001b[0m\u001b[1;33m\u001b[0m\u001b[1;33m\u001b[0m\u001b[0m\n\u001b[0m\u001b[0;32m    200\u001b[0m                 \u001b[0mouts\u001b[0m \u001b[1;33m=\u001b[0m \u001b[0mto_list\u001b[0m\u001b[1;33m(\u001b[0m\u001b[0mouts\u001b[0m\u001b[1;33m)\u001b[0m\u001b[1;33m\u001b[0m\u001b[1;33m\u001b[0m\u001b[0m\n\u001b[0;32m    201\u001b[0m                 \u001b[1;32mfor\u001b[0m \u001b[0ml\u001b[0m\u001b[1;33m,\u001b[0m \u001b[0mo\u001b[0m \u001b[1;32min\u001b[0m \u001b[0mzip\u001b[0m\u001b[1;33m(\u001b[0m\u001b[0mout_labels\u001b[0m\u001b[1;33m,\u001b[0m \u001b[0mouts\u001b[0m\u001b[1;33m)\u001b[0m\u001b[1;33m:\u001b[0m\u001b[1;33m\u001b[0m\u001b[1;33m\u001b[0m\u001b[0m\n",
      "\u001b[1;32mD:\\_setup\\anaconda3\\envs\\py3.7\\lib\\site-packages\\keras\\backend\\tensorflow_backend.py\u001b[0m in \u001b[0;36m__call__\u001b[1;34m(self, inputs)\u001b[0m\n\u001b[0;32m   2713\u001b[0m                 \u001b[1;32mreturn\u001b[0m \u001b[0mself\u001b[0m\u001b[1;33m.\u001b[0m\u001b[0m_legacy_call\u001b[0m\u001b[1;33m(\u001b[0m\u001b[0minputs\u001b[0m\u001b[1;33m)\u001b[0m\u001b[1;33m\u001b[0m\u001b[1;33m\u001b[0m\u001b[0m\n\u001b[0;32m   2714\u001b[0m \u001b[1;33m\u001b[0m\u001b[0m\n\u001b[1;32m-> 2715\u001b[1;33m             \u001b[1;32mreturn\u001b[0m \u001b[0mself\u001b[0m\u001b[1;33m.\u001b[0m\u001b[0m_call\u001b[0m\u001b[1;33m(\u001b[0m\u001b[0minputs\u001b[0m\u001b[1;33m)\u001b[0m\u001b[1;33m\u001b[0m\u001b[1;33m\u001b[0m\u001b[0m\n\u001b[0m\u001b[0;32m   2716\u001b[0m         \u001b[1;32melse\u001b[0m\u001b[1;33m:\u001b[0m\u001b[1;33m\u001b[0m\u001b[1;33m\u001b[0m\u001b[0m\n\u001b[0;32m   2717\u001b[0m             \u001b[1;32mif\u001b[0m \u001b[0mpy_any\u001b[0m\u001b[1;33m(\u001b[0m\u001b[0mis_tensor\u001b[0m\u001b[1;33m(\u001b[0m\u001b[0mx\u001b[0m\u001b[1;33m)\u001b[0m \u001b[1;32mfor\u001b[0m \u001b[0mx\u001b[0m \u001b[1;32min\u001b[0m \u001b[0minputs\u001b[0m\u001b[1;33m)\u001b[0m\u001b[1;33m:\u001b[0m\u001b[1;33m\u001b[0m\u001b[1;33m\u001b[0m\u001b[0m\n",
      "\u001b[1;32mD:\\_setup\\anaconda3\\envs\\py3.7\\lib\\site-packages\\keras\\backend\\tensorflow_backend.py\u001b[0m in \u001b[0;36m_call\u001b[1;34m(self, inputs)\u001b[0m\n\u001b[0;32m   2673\u001b[0m             \u001b[0mfetched\u001b[0m \u001b[1;33m=\u001b[0m \u001b[0mself\u001b[0m\u001b[1;33m.\u001b[0m\u001b[0m_callable_fn\u001b[0m\u001b[1;33m(\u001b[0m\u001b[1;33m*\u001b[0m\u001b[0marray_vals\u001b[0m\u001b[1;33m,\u001b[0m \u001b[0mrun_metadata\u001b[0m\u001b[1;33m=\u001b[0m\u001b[0mself\u001b[0m\u001b[1;33m.\u001b[0m\u001b[0mrun_metadata\u001b[0m\u001b[1;33m)\u001b[0m\u001b[1;33m\u001b[0m\u001b[1;33m\u001b[0m\u001b[0m\n\u001b[0;32m   2674\u001b[0m         \u001b[1;32melse\u001b[0m\u001b[1;33m:\u001b[0m\u001b[1;33m\u001b[0m\u001b[1;33m\u001b[0m\u001b[0m\n\u001b[1;32m-> 2675\u001b[1;33m             \u001b[0mfetched\u001b[0m \u001b[1;33m=\u001b[0m \u001b[0mself\u001b[0m\u001b[1;33m.\u001b[0m\u001b[0m_callable_fn\u001b[0m\u001b[1;33m(\u001b[0m\u001b[1;33m*\u001b[0m\u001b[0marray_vals\u001b[0m\u001b[1;33m)\u001b[0m\u001b[1;33m\u001b[0m\u001b[1;33m\u001b[0m\u001b[0m\n\u001b[0m\u001b[0;32m   2676\u001b[0m         \u001b[1;32mreturn\u001b[0m \u001b[0mfetched\u001b[0m\u001b[1;33m[\u001b[0m\u001b[1;33m:\u001b[0m\u001b[0mlen\u001b[0m\u001b[1;33m(\u001b[0m\u001b[0mself\u001b[0m\u001b[1;33m.\u001b[0m\u001b[0moutputs\u001b[0m\u001b[1;33m)\u001b[0m\u001b[1;33m]\u001b[0m\u001b[1;33m\u001b[0m\u001b[1;33m\u001b[0m\u001b[0m\n\u001b[0;32m   2677\u001b[0m \u001b[1;33m\u001b[0m\u001b[0m\n",
      "\u001b[1;32mD:\\_setup\\anaconda3\\envs\\py3.7\\lib\\site-packages\\tensorflow\\python\\client\\session.py\u001b[0m in \u001b[0;36m__call__\u001b[1;34m(self, *args, **kwargs)\u001b[0m\n\u001b[0;32m   1456\u001b[0m         ret = tf_session.TF_SessionRunCallable(self._session._session,\n\u001b[0;32m   1457\u001b[0m                                                \u001b[0mself\u001b[0m\u001b[1;33m.\u001b[0m\u001b[0m_handle\u001b[0m\u001b[1;33m,\u001b[0m \u001b[0margs\u001b[0m\u001b[1;33m,\u001b[0m\u001b[1;33m\u001b[0m\u001b[1;33m\u001b[0m\u001b[0m\n\u001b[1;32m-> 1458\u001b[1;33m                                                run_metadata_ptr)\n\u001b[0m\u001b[0;32m   1459\u001b[0m         \u001b[1;32mif\u001b[0m \u001b[0mrun_metadata\u001b[0m\u001b[1;33m:\u001b[0m\u001b[1;33m\u001b[0m\u001b[1;33m\u001b[0m\u001b[0m\n\u001b[0;32m   1460\u001b[0m           \u001b[0mproto_data\u001b[0m \u001b[1;33m=\u001b[0m \u001b[0mtf_session\u001b[0m\u001b[1;33m.\u001b[0m\u001b[0mTF_GetBuffer\u001b[0m\u001b[1;33m(\u001b[0m\u001b[0mrun_metadata_ptr\u001b[0m\u001b[1;33m)\u001b[0m\u001b[1;33m\u001b[0m\u001b[1;33m\u001b[0m\u001b[0m\n",
      "\u001b[1;31mKeyboardInterrupt\u001b[0m: "
     ]
    }
   ],
   "source": [
    "### 모델 학습\n",
    "start_time = datetime.datetime.now().strftime('%Y_%m_%d_%H_%M_%S')\n",
    "\n",
    "hist = model.fit(x_train, y_train, epochs=30, batch_size=100)\n",
    "# hist = model.fit(x_train, y_train, validation_data=(x_valid, y_valid), epochs=30, batch_size=64, callbacks=[cb_checkpoint])"
   ]
  },
  {
   "cell_type": "code",
   "execution_count": 14,
   "metadata": {},
   "outputs": [],
   "source": [
    "## 모델 저장\n",
    "model.save('model/pm_prediction_model_achi_5.h5')"
   ]
  },
  {
   "cell_type": "code",
   "execution_count": 16,
   "metadata": {},
   "outputs": [
    {
     "data": {
      "image/png": "[encoded data removed]",
      "text/plain": [
       "<Figure size 432x288 with 1 Axes>"
      ]
     },
     "metadata": {
      "needs_background": "light"
     },
     "output_type": "display_data"
    }
   ],
   "source": [
    "## 손실함수 변화 측정\n",
    "\n",
    "%matplotlib inline\n",
    "\n",
    "fig, loss_ax = plt.subplots()\n",
    "\n",
    "#acc_ax = loss_ax.twinx()\n",
    "\n",
    "loss_ax.plot(hist.history['loss'], 'b', label='train loss')\n",
    "loss_ax.plot(hist.history['val_loss'], 'r', label='val loss')\n",
    "loss_ax.set_ylim([0.1, 1.0])\n",
    "\n",
    "\n",
    "#acc_ax.plot(hist.history['acc'], 'b', label='train acc')\n",
    "#acc_ax.plot(hist.history['val_acc'], 'g', label='val acc')\n",
    "#acc_ax.set_ylim([0.25, 1.0])\n",
    "\n",
    "loss_ax.set_xlabel('epoch')\n",
    "loss_ax.set_ylabel('loss')\n",
    "#acc_ax.set_ylabel('accuracy')\n",
    "\n",
    "loss_ax.legend(loc='upper left')\n",
    "#acc_ax.legend(loc='lower left')\n",
    "\n",
    "plt.show()"
   ]
  },
  {
   "cell_type": "code",
   "execution_count": 17,
   "metadata": {},
   "outputs": [],
   "source": [
    "# 실제 데이터화\n",
    "test_head_data = head_pm[train_cut:]\n",
    "\n",
    "y_actual = []\n",
    "for i in range(-valid_cut):\n",
    "    temp = test_head_data[i]*(y_test[i]+1)\n",
    "    y_actual.append(temp.tolist())\n",
    "    \n",
    "y_true = sum(y_actual,[])"
   ]
  },
  {
   "cell_type": "code",
   "execution_count": 18,
   "metadata": {},
   "outputs": [],
   "source": [
    "pred = model.predict(x_test)\n",
    "\n",
    "y_pred = []\n",
    "for i in range(train_cut):\n",
    "    temp = test_head_data[i]*(pred[i]+1)\n",
    "    y_pred.append(temp.tolist())\n",
    "    \n",
    "y_pred = sum(y_pred,[])"
   ]
  },
  {
   "cell_type": "code",
   "execution_count": 23,
   "metadata": {},
   "outputs": [
    {
     "name": "stderr",
     "output_type": "stream",
     "text": [
      "D:\\_setup\\anaconda3\\envs\\py3.7\\lib\\site-packages\\ipykernel_launcher.py:7: MatplotlibDeprecationWarning: Adding an axes using the same arguments as a previous axes currently reuses the earlier instance.  In a future version, a new instance will always be created and returned.  Meanwhile, this warning can be suppressed, and the future behavior ensured, by passing a unique label to each axes instance.\n",
      "  import sys\n"
     ]
    },
    {
     "data": {
      "image/png": "[encoded data removed]",
      "text/plain": [
       "<Figure size 1440x720 with 1 Axes>"
      ]
     },
     "metadata": {},
     "output_type": "display_data"
    }
   ],
   "source": [
    "pred = model.predict(x_test)\n",
    "\n",
    "fig = plt.figure(facecolor='white', figsize=(20, 10))\n",
    "\n",
    "plt.title('PM Prediction with temprature, humidity, wind speed and direction', fontsize=20)\n",
    "\n",
    "ax = fig.add_subplot(111)\n",
    "ax.plot(y_true, label='True', marker='.')\n",
    "ax.plot(y_pred, label='Prediction', marker='^')\n",
    "\n",
    "plt.grid(color='gray', dashes=(5,5))\n",
    "\n",
    "plt.axhline(y=1, color='blue', linewidth=1, label='Good')\n",
    "plt.axhline(y=15, color='green', linewidth=1, label='Normal')\n",
    "plt.axhline(y=35, color='yellow', linewidth=1, label='Bad')\n",
    "plt.axhline(y=75, color='red', linewidth=1, label='Very Bad')\n",
    "\n",
    "plt.xlabel('day', fontsize=13)\n",
    "plt.ylabel('PM 2.5', fontsize=13)\n",
    "\n",
    "plt.ylim([0, 125])\n",
    "\n",
    "ax.legend()\n",
    "plt.show()"
   ]
  },
  {
   "cell_type": "code",
   "execution_count": 20,
   "metadata": {},
   "outputs": [],
   "source": [
    "def pm_level(pm):\n",
    "    level_1 = 15\n",
    "    level_2 = 35\n",
    "    level_3 = 75\n",
    "    \n",
    "    level_temp = []\n",
    "    \n",
    "    for i in range(len(pm)):\n",
    "        if pm[i] <= level_1:\n",
    "            level_temp.append(1)\n",
    "        elif pm[i] <= level_2:\n",
    "            level_temp.append(2)\n",
    "        elif pm[i] <= level_3:\n",
    "            level_temp.append(3)\n",
    "        else:\n",
    "            level_temp.append(4)\n",
    "            \n",
    "    return level_temp\n",
    "    "
   ]
  },
  {
   "cell_type": "code",
   "execution_count": 21,
   "metadata": {},
   "outputs": [],
   "source": [
    "def error_check(true, pred):\n",
    "    y_true_lv = pm_level(true)\n",
    "    y_pred_lv = pm_level(pred)\n",
    "    \n",
    "    level_1_acc = 0\n",
    "    level_2_acc = 0\n",
    "    level_3_acc = 0\n",
    "    level_4_acc = 0\n",
    "\n",
    "    level_1_count = y_true_lv.count(1)\n",
    "    level_2_count = y_true_lv.count(2)\n",
    "    level_3_count = y_true_lv.count(3)\n",
    "    level_4_count = y_true_lv.count(4)\n",
    "            \n",
    "    \n",
    "    error_rate_temp = []\n",
    "    \n",
    "    for i in range(len(y_pred_lv)):\n",
    "        if y_pred_lv[i] == y_true_lv[i]:\n",
    "            error_rate_temp.append(1)\n",
    "            \n",
    "            if y_pred_lv[i] == 1:\n",
    "                level_1_acc += 1\n",
    "            elif y_pred_lv[i] == 2:\n",
    "                level_2_acc += 1\n",
    "            elif y_pred_lv[i] == 3:\n",
    "                level_3_acc += 1\n",
    "            else:\n",
    "                level_4_acc += 1\n",
    "                    \n",
    "        else:\n",
    "            error_rate_temp.append(0)\n",
    "    \n",
    "    total_acc = sum(error_rate_temp) / len(error_rate_temp)\n",
    "    \n",
    "    level_1_accuracy = float(level_1_acc / level_1_count)\n",
    "    level_2_accuracy = float(level_2_acc / level_2_count)\n",
    "    level_3_accuracy = float(level_3_acc / level_3_count)\n",
    "    level_4_accuracy = float(level_4_acc / level_4_count)\n",
    "    \n",
    "    level_accuracy = [level_1_accuracy, level_2_accuracy, level_3_accuracy, level_4_accuracy]\n",
    "    \n",
    "    return total_acc, level_accuracy\n"
   ]
  },
  {
   "cell_type": "code",
   "execution_count": 22,
   "metadata": {},
   "outputs": [
    {
     "ename": "ZeroDivisionError",
     "evalue": "division by zero",
     "output_type": "error",
     "traceback": [
      "\u001b[1;31m---------------------------------------------------------------------------\u001b[0m",
      "\u001b[1;31mZeroDivisionError\u001b[0m                         Traceback (most recent call last)",
      "\u001b[1;32m<ipython-input-22-3e017e19f79c>\u001b[0m in \u001b[0;36m<module>\u001b[1;34m\u001b[0m\n\u001b[1;32m----> 1\u001b[1;33m \u001b[0mtotal_acc\u001b[0m\u001b[1;33m,\u001b[0m \u001b[0mlevel_acc\u001b[0m \u001b[1;33m=\u001b[0m \u001b[0merror_check\u001b[0m\u001b[1;33m(\u001b[0m\u001b[0my_true\u001b[0m\u001b[1;33m,\u001b[0m \u001b[0my_pred\u001b[0m\u001b[1;33m)\u001b[0m\u001b[1;33m\u001b[0m\u001b[1;33m\u001b[0m\u001b[0m\n\u001b[0m\u001b[0;32m      2\u001b[0m \u001b[0mprint\u001b[0m\u001b[1;33m(\u001b[0m\u001b[1;34m\"total accuracy:\"\u001b[0m\u001b[1;33m,\u001b[0m \u001b[0mtotal_acc\u001b[0m\u001b[1;33m)\u001b[0m\u001b[1;33m\u001b[0m\u001b[1;33m\u001b[0m\u001b[0m\n\u001b[0;32m      3\u001b[0m \u001b[0mprint\u001b[0m\u001b[1;33m(\u001b[0m\u001b[1;34m\"level 'Good' accuracy:\"\u001b[0m\u001b[1;33m,\u001b[0m \u001b[0mlevel_acc\u001b[0m\u001b[1;33m[\u001b[0m\u001b[1;36m0\u001b[0m\u001b[1;33m]\u001b[0m\u001b[1;33m)\u001b[0m\u001b[1;33m\u001b[0m\u001b[1;33m\u001b[0m\u001b[0m\n\u001b[0;32m      4\u001b[0m \u001b[0mprint\u001b[0m\u001b[1;33m(\u001b[0m\u001b[1;34m\"level 'Normal' accuracy:\"\u001b[0m\u001b[1;33m,\u001b[0m \u001b[0mlevel_acc\u001b[0m\u001b[1;33m[\u001b[0m\u001b[1;36m1\u001b[0m\u001b[1;33m]\u001b[0m\u001b[1;33m)\u001b[0m\u001b[1;33m\u001b[0m\u001b[1;33m\u001b[0m\u001b[0m\n\u001b[0;32m      5\u001b[0m \u001b[0mprint\u001b[0m\u001b[1;33m(\u001b[0m\u001b[1;34m\"level 'Bad' accuracy:\"\u001b[0m\u001b[1;33m,\u001b[0m \u001b[0mlevel_acc\u001b[0m\u001b[1;33m[\u001b[0m\u001b[1;36m2\u001b[0m\u001b[1;33m]\u001b[0m\u001b[1;33m)\u001b[0m\u001b[1;33m\u001b[0m\u001b[1;33m\u001b[0m\u001b[0m\n",
      "\u001b[1;32m<ipython-input-21-516938a472f4>\u001b[0m in \u001b[0;36merror_check\u001b[1;34m(true, pred)\u001b[0m\n\u001b[0;32m     32\u001b[0m             \u001b[0merror_rate_temp\u001b[0m\u001b[1;33m.\u001b[0m\u001b[0mappend\u001b[0m\u001b[1;33m(\u001b[0m\u001b[1;36m0\u001b[0m\u001b[1;33m)\u001b[0m\u001b[1;33m\u001b[0m\u001b[1;33m\u001b[0m\u001b[0m\n\u001b[0;32m     33\u001b[0m \u001b[1;33m\u001b[0m\u001b[0m\n\u001b[1;32m---> 34\u001b[1;33m     \u001b[0mtotal_acc\u001b[0m \u001b[1;33m=\u001b[0m \u001b[0msum\u001b[0m\u001b[1;33m(\u001b[0m\u001b[0merror_rate_temp\u001b[0m\u001b[1;33m)\u001b[0m \u001b[1;33m/\u001b[0m \u001b[0mlen\u001b[0m\u001b[1;33m(\u001b[0m\u001b[0merror_rate_temp\u001b[0m\u001b[1;33m)\u001b[0m\u001b[1;33m\u001b[0m\u001b[1;33m\u001b[0m\u001b[0m\n\u001b[0m\u001b[0;32m     35\u001b[0m \u001b[1;33m\u001b[0m\u001b[0m\n\u001b[0;32m     36\u001b[0m     \u001b[0mlevel_1_accuracy\u001b[0m \u001b[1;33m=\u001b[0m \u001b[0mfloat\u001b[0m\u001b[1;33m(\u001b[0m\u001b[0mlevel_1_acc\u001b[0m \u001b[1;33m/\u001b[0m \u001b[0mlevel_1_count\u001b[0m\u001b[1;33m)\u001b[0m\u001b[1;33m\u001b[0m\u001b[1;33m\u001b[0m\u001b[0m\n",
      "\u001b[1;31mZeroDivisionError\u001b[0m: division by zero"
     ]
    }
   ],
   "source": [
    "total_acc, level_acc = error_check(y_true, y_pred)\n",
    "print(\"total accuracy:\", total_acc)\n",
    "print(\"level 'Good' accuracy:\", level_acc[0])\n",
    "print(\"level 'Normal' accuracy:\", level_acc[1])\n",
    "print(\"level 'Bad' accuracy:\", level_acc[2])\n",
    "print(\"level 'Veray Bad' accuracy:\", level_acc[3])"
   ]
  },
  {
   "cell_type": "code",
   "execution_count": 25,
   "metadata": {},
   "outputs": [
    {
     "name": "stdout",
     "output_type": "stream",
     "text": [
      "Total error rate:  [2.60445785]\n"
     ]
    }
   ],
   "source": [
    "pred_error = abs((pred-y_test) / y_test)\n",
    "\n",
    "total_error_rate = sum(pred_error)/len(pred_error)\n",
    "print(\"Total error rate: \", total_error_rate)"
   ]
  },
  {
   "cell_type": "code",
   "execution_count": null,
   "metadata": {},
   "outputs": [],
   "source": []
  },
  {
   "cell_type": "code",
   "execution_count": null,
   "metadata": {},
   "outputs": [],
   "source": []
  }
 ],
 "metadata": {
  "kernelspec": {
   "display_name": "Python 3",
   "language": "python",
   "name": "python3"
  },
  "language_info": {
   "codemirror_mode": {
    "name": "ipython",
    "version": 3
   },
   "file_extension": ".py",
   "mimetype": "text/x-python",
   "name": "python",
   "nbconvert_exporter": "python",
   "pygments_lexer": "ipython3",
   "version": "3.7.3"
  }
 },
 "nbformat": 4,
 "nbformat_minor": 2
}
